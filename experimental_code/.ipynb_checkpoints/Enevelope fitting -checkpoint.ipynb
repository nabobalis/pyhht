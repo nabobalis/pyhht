{
 "metadata": {
  "name": "",
  "signature": "sha256:1879d148de80bae7cb3f5526dcdeab781478ade5c4a59a20a05d71cc2778c491"
 },
 "nbformat": 3,
 "nbformat_minor": 0,
 "worksheets": [
  {
   "cells": [
    {
     "cell_type": "code",
     "collapsed": false,
     "input": [
      "%load_ext autoreload\n",
      "%autoreload 2\n",
      "%reload_ext autoreload"
     ],
     "language": "python",
     "metadata": {},
     "outputs": [],
     "prompt_number": 1
    },
    {
     "cell_type": "code",
     "collapsed": false,
     "input": [
      "from __future__ import division\n",
      "import numpy as np \n",
      "from scipy import interpolate\n",
      "import matplotlib.pyplot as plt\n",
      "%matplotlib inline"
     ],
     "language": "python",
     "metadata": {},
     "outputs": [],
     "prompt_number": 2
    },
    {
     "cell_type": "code",
     "collapsed": false,
     "input": [
      "basis = np.linspace(0,100,100)\n",
      "data = 2 * np.sin(2*np.pi*basis/10) + 3 * np.sin(2*np.pi*basis/20)"
     ],
     "language": "python",
     "metadata": {},
     "outputs": [],
     "prompt_number": 14
    },
    {
     "cell_type": "code",
     "collapsed": false,
     "input": [
      "signals = data[:, None]\n",
      "base = len(basis)\n",
      "min_env = np.zeros(base)\n",
      "max_env = min_env.copy()\n",
      "min_env = np.logical_and(\n",
      "                    np.r_[True, signals[1:,0] > signals[:-1,0]],\n",
      "                    np.r_[signals[:-1,0] > signals[1:,0], True])\n",
      "max_env = np.logical_and(\n",
      "                    np.r_[True, signals[1:,0] < signals[:-1,0]],\n",
      "                    np.r_[signals[:-1,0] < signals[1:,0], True])\n",
      "max_env[0] = max_env[-1] = False\n",
      "min_env = min_env.nonzero()[0]\n",
      "max_env = max_env.nonzero()[0]"
     ],
     "language": "python",
     "metadata": {},
     "outputs": [],
     "prompt_number": 9
    },
    {
     "cell_type": "code",
     "collapsed": false,
     "input": [
      "plt.plot(basis,data, 'r-.')\n",
      "plt.plot(basis[min_env],data[min_env],'ro')\n",
      "plt.plot(basis[max_env],data[max_env],'bo')"
     ],
     "language": "python",
     "metadata": {},
     "outputs": [
      {
       "metadata": {},
       "output_type": "pyout",
       "prompt_number": 15,
       "text": [
        "[<matplotlib.lines.Line2D at 0x7f20cb1f9b50>]"
       ]
      },
      {
       "metadata": {},
       "output_type": "display_data",
       "png": "[encoded data removed]",
       "text": [
        "<matplotlib.figure.Figure at 0x7f20cb451ed0>"
       ]
      }
     ],
     "prompt_number": 15
    },
    {
     "cell_type": "code",
     "collapsed": false,
     "input": [
      "from scipy.optimize import curve_fit\n",
      "\n",
      "def parabola(t, *p): \n",
      "    a, b, c = p\n",
      "    y = np.zeros(t.shape)\n",
      "    indices = np.abs(t) < b\n",
      "    y[indices] = (a*(1-(((t[indices]-c)/b)**2)) + d)\n",
      "    return y\n"
     ],
     "language": "python",
     "metadata": {},
     "outputs": [
      {
       "output_type": "stream",
       "stream": "stderr",
       "text": [
        "/usr/lib/python2.7/site-packages/numpy/lib/polynomial.py:587: RankWarning: Polyfit may be poorly conditioned\n",
        "  warnings.warn(msg, RankWarning)\n"
       ]
      },
      {
       "metadata": {},
       "output_type": "pyout",
       "prompt_number": 18,
       "text": [
        "array([  1.12214644e-03,  -3.13260440e-04,  -6.86377804e-01,\n",
        "         6.38531344e+00])"
       ]
      }
     ],
     "prompt_number": 18
    }
   ],
   "metadata": {}
  }
 ]
}