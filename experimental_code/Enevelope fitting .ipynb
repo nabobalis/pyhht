{
 "metadata": {
  "name": "",
  "signature": "sha256:35edbf450cc09b678999321c451891f90f6fdf3740571f45730ebf594ecb8a4c"
 },
 "nbformat": 3,
 "nbformat_minor": 0,
 "worksheets": [
  {
   "cells": [
    {
     "cell_type": "code",
     "collapsed": false,
     "input": [
      "%load_ext autoreload\n",
      "%autoreload 2\n",
      "%reload_ext autoreload"
     ],
     "language": "python",
     "metadata": {},
     "outputs": [
      {
       "output_type": "stream",
       "stream": "stdout",
       "text": [
        "The autoreload extension is already loaded. To reload it, use:\n",
        "  %reload_ext autoreload\n"
       ]
      }
     ],
     "prompt_number": 122
    },
    {
     "cell_type": "code",
     "collapsed": false,
     "input": [
      "from __future__ import division\n",
      "import numpy as np \n",
      "from scipy import interpolate\n",
      "import matplotlib.pyplot as plt\n",
      "%matplotlib inline"
     ],
     "language": "python",
     "metadata": {},
     "outputs": [],
     "prompt_number": 130
    },
    {
     "cell_type": "code",
     "collapsed": false,
     "input": [
      "basis = np.linspace(0,100,100)\n",
      "data = 2 * np.sin(2*np.pi*basis/10) + 3 * np.sin(2*np.pi*basis/20)"
     ],
     "language": "python",
     "metadata": {},
     "outputs": [],
     "prompt_number": 131
    },
    {
     "cell_type": "code",
     "collapsed": false,
     "input": [
      "signals = data[:, None]\n",
      "base = len(basis)\n",
      "min_env = np.zeros(base)\n",
      "max_env = min_env.copy()\n",
      "min_env = np.logical_and(\n",
      "                    np.r_[True, signals[1:,0] < signals[:-1,0]],\n",
      "                    np.r_[signals[:-1,0] < signals[1:,0], True])\n",
      "max_env = np.logical_and(\n",
      "                    np.r_[True, signals[1:,0] > signals[:-1,0]],\n",
      "                    np.r_[signals[:-1,0] > signals[1:,0], True])\n",
      "max_env[-1] = min_env[0] = False\n",
      "min_env = min_env.nonzero()[0]\n",
      "max_env = max_env.nonzero()[0]\n",
      "order_min = 3\n",
      "order_max = 3\n",
      "inter_per = 0"
     ],
     "language": "python",
     "metadata": {},
     "outputs": [],
     "prompt_number": 132
    },
    {
     "cell_type": "code",
     "collapsed": false,
     "input": [
      "## Extend the envelope locations and the signal\n",
      "ex_max_env = np.append(-1*min_env[0], max_env)\n",
      "ex_max_env = np.append(ex_max_env, (basis[-1] - min_env[-1]) + basis[-1])\n",
      "ex_min_env = np.append(-1*max_env[0], min_env)\n",
      "ex_min_env = np.append(ex_min_env, (basis[-1] - max_env[-1]) + basis[-1])\n",
      "\n",
      "signal_min = signals[min_env,0]\n",
      "signal_max = signals[max_env,0]\n",
      "\n",
      "sig_min = np.append(signal_min[0],signal_min)\n",
      "sig_min = np.append(sig_min, signal_min[-1])\n",
      "sig_max = np.append(signal_max[0],signal_max)\n",
      "sig_max = np.append(sig_max,signal_max[-1])"
     ],
     "language": "python",
     "metadata": {},
     "outputs": [],
     "prompt_number": 172
    },
    {
     "cell_type": "code",
     "collapsed": false,
     "input": [
      "basis[-1] - min_env[-1] +  basis[-1]"
     ],
     "language": "python",
     "metadata": {},
     "outputs": [
      {
       "metadata": {},
       "output_type": "pyout",
       "prompt_number": 173,
       "text": [
        "104.0"
       ]
      }
     ],
     "prompt_number": 173
    },
    {
     "cell_type": "code",
     "collapsed": false,
     "input": [
      "plt.plot(basis,data)\n",
      "plt.plot(ex_min_env,sig_min,'go')\n",
      "plt.plot(ex_max_env,sig_max,'ro')"
     ],
     "language": "python",
     "metadata": {},
     "outputs": [
      {
       "metadata": {},
       "output_type": "pyout",
       "prompt_number": 174,
       "text": [
        "[<matplotlib.lines.Line2D at 0x7f7d4d9f0d50>]"
       ]
      },
      {
       "metadata": {},
       "output_type": "display_data",
       "png": "[encoded data removed]",
       "text": [
        "<matplotlib.figure.Figure at 0x7f7d4dad7210>"
       ]
      }
     ],
     "prompt_number": 174
    },
    {
     "cell_type": "code",
     "collapsed": false,
     "input": [
      "## NEW WAY\n",
      "t = interpolate.splrep(ex_min_env, sig_min,k=order_min, per=inter_per)\n",
      "top = interpolate.splev(np.arange(len(signals[:,0])), t)\n",
      "b = interpolate.splrep(ex_max_env, sig_max, k=order_max, per=inter_per)\n",
      "bot = interpolate.splev(np.arange(len(signals[:,0])), b)\n",
      "plt.plot((top+bot)/2)"
     ],
     "language": "python",
     "metadata": {},
     "outputs": [
      {
       "metadata": {},
       "output_type": "pyout",
       "prompt_number": 179,
       "text": [
        "[<matplotlib.lines.Line2D at 0x7f7d4d8dc8d0>]"
       ]
      },
      {
       "metadata": {},
       "output_type": "display_data",
       "png": "[encoded data removed]",
       "text": [
        "<matplotlib.figure.Figure at 0x7f7d4d9d90d0>"
       ]
      }
     ],
     "prompt_number": 179
    },
    {
     "cell_type": "code",
     "collapsed": false,
     "input": [
      "## OLD WAY\n",
      "t = interpolate.splrep(min_env, signals[min_env,0],k=order_min, per=inter_per)\n",
      "top = interpolate.splev(np.arange(len(signals[:,0])), t)\n",
      "b = interpolate.splrep(max_env, signals[min_env,0], k=order_max, per=inter_per)\n",
      "bot = interpolate.splev(np.arange(len(signals[:,0])), b)\n",
      "plt.plot((top+bot)/2)"
     ],
     "language": "python",
     "metadata": {},
     "outputs": [
      {
       "metadata": {},
       "output_type": "pyout",
       "prompt_number": 180,
       "text": [
        "[<matplotlib.lines.Line2D at 0x7f7d4d807590>]"
       ]
      },
      {
       "metadata": {},
       "output_type": "display_data",
       "png": "[encoded data removed]",
       "text": [
        "<matplotlib.figure.Figure at 0x7f7d4da60f90>"
       ]
      }
     ],
     "prompt_number": 180
    }
   ],
   "metadata": {}
  }
 ]
}