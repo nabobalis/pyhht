{
 "metadata": {
  "name": "",
  "signature": "sha256:18cd8f19aabde5927cfe70406fea9f4cd8fe72f8821b8c6ec54c3440a6e94fe4"
 },
 "nbformat": 3,
 "nbformat_minor": 0,
 "worksheets": [
  {
   "cells": [
    {
     "cell_type": "code",
     "collapsed": false,
     "input": [
      "%load_ext autoreload\n",
      "%autoreload 2\n",
      "%reload_ext autoreload"
     ],
     "language": "python",
     "metadata": {},
     "outputs": [],
     "prompt_number": 2
    },
    {
     "cell_type": "code",
     "collapsed": false,
     "input": [
      "from __future__ import division\n",
      "import numpy as np \n",
      "from scipy import interpolate\n",
      "import matplotlib.pyplot as plt\n",
      "%matplotlib inline"
     ],
     "language": "python",
     "metadata": {},
     "outputs": [],
     "prompt_number": 3
    },
    {
     "cell_type": "code",
     "collapsed": false,
     "input": [
      "basis = np.linspace(0,100,100)\n",
      "data = 2 * np.sin(2*np.pi*basis/10) + 3 * np.sin(2*np.pi*basis/20)"
     ],
     "language": "python",
     "metadata": {},
     "outputs": [],
     "prompt_number": 4
    },
    {
     "cell_type": "code",
     "collapsed": false,
     "input": [
      "signals = data[:, None]\n",
      "base = len(basis)\n",
      "min_env = np.zeros(base)\n",
      "max_env = min_env.copy()\n",
      "min_env = np.logical_and(\n",
      "                    np.r_[True, signals[1:,0] < signals[:-1,0]],\n",
      "                    np.r_[signals[:-1,0] < signals[1:,0], True])\n",
      "max_env = np.logical_and(\n",
      "                    np.r_[True, signals[1:,0] > signals[:-1,0]],\n",
      "                    np.r_[signals[:-1,0] > signals[1:,0], True])\n",
      "max_env[-1] = min_env[0] = False\n",
      "min_env = min_env.nonzero()[0]\n",
      "max_env = max_env.nonzero()[0]"
     ],
     "language": "python",
     "metadata": {},
     "outputs": [],
     "prompt_number": 21
    },
    {
     "cell_type": "code",
     "collapsed": false,
     "input": [
      "p = np.polyfit(basis[min_env[0]-1:min_env[0]+2],data[min_env[0]-1:min_env[0]+2], deg=2)\n",
      "tp = -(p[1]/(2*p[0]))\n",
      "yp = (-p[1]/2)*tp + p[-1]\n",
      "t = min_env[1]\n",
      "-2 +tp\n",
      "p, tp, yp, t"
     ],
     "language": "python",
     "metadata": {},
     "outputs": [
      {
       "metadata": {},
       "output_type": "pyout",
       "prompt_number": 32,
       "text": [
        "(array([  0.1650076 ,  -2.90174194,  12.50639675]),\n",
        " 8.7927525666308171,\n",
        " 25.263546188453901,\n",
        " 23.792752566630817)"
       ]
      }
     ],
     "prompt_number": 32
    },
    {
     "cell_type": "code",
     "collapsed": false,
     "input": [
      "plt.plot(basis,data, 'r-.')\n",
      "plt.plot(basis[min_env],data[min_env],'yo')\n",
      "plt.plot(basis[max_env],data[max_env],'bo')\n",
      "plt.plot(tp,yp,'go')"
     ],
     "language": "python",
     "metadata": {},
     "outputs": [
      {
       "metadata": {},
       "output_type": "pyout",
       "prompt_number": 38,
       "text": [
        "[<matplotlib.lines.Line2D at 0x7f8809755cd0>]"
       ]
      },
      {
       "metadata": {},
       "output_type": "display_data",
       "png": "[encoded data removed]",
       "text": [
        "<matplotlib.figure.Figure at 0x7f8809ba1b50>"
       ]
      }
     ],
     "prompt_number": 38
    },
    {
     "cell_type": "code",
     "collapsed": false,
     "input": [
      "basis[min_env[0]-1:min_env[0]+2]"
     ],
     "language": "python",
     "metadata": {},
     "outputs": [
      {
       "metadata": {},
       "output_type": "pyout",
       "prompt_number": 37,
       "text": [
        "array([  8.08080808,   9.09090909,  10.1010101 ])"
       ]
      }
     ],
     "prompt_number": 37
    }
   ],
   "metadata": {}
  }
 ]
}